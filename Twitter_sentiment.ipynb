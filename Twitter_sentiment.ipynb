{
  "nbformat": 4,
  "nbformat_minor": 0,
  "metadata": {
    "colab": {
      "name": "Twitter sentiment.ipynb",
      "provenance": [],
      "collapsed_sections": [],
      "authorship_tag": "ABX9TyMHmg1Z/Igw8LwtAmOwhq9E",
      "include_colab_link": true
    },
    "kernelspec": {
      "name": "python3",
      "display_name": "Python 3"
    },
    "language_info": {
      "name": "python"
    },
    "accelerator": "GPU"
  },
  "cells": [
    {
      "cell_type": "markdown",
      "metadata": {
        "id": "view-in-github",
        "colab_type": "text"
      },
      "source": [
        "<a href=\"https://colab.research.google.com/github/Nimagna123/TwitterCommentClassifier/blob/main/Twitter_sentiment.ipynb\" target=\"_parent\"><img src=\"https://colab.research.google.com/assets/colab-badge.svg\" alt=\"Open In Colab\"/></a>"
      ]
    },
    {
      "cell_type": "code",
      "metadata": {
        "id": "KWyJK-3gS17r"
      },
      "source": [
        "import numpy as np \n",
        "import pandas as pd \n",
        "from time import time\n",
        "from keras.models import Sequential\n",
        "from keras import layers\n",
        "from sklearn.metrics import accuracy_score,f1_score\n",
        "from keras.preprocessing.text import Tokenizer\n",
        "from keras.preprocessing.sequence import pad_sequences\n",
        "from tensorflow.keras.utils import to_categorical\n",
        "from keras.layers.convolutional import Conv1D\n",
        "from keras.layers.core import Dense, Dropout, Flatten\n",
        "from keras.layers import Dense, Embedding, LSTM, SpatialDropout1D\n"
      ],
      "execution_count": 150,
      "outputs": []
    },
    {
      "cell_type": "code",
      "metadata": {
        "id": "YlgsUmnbTScv",
        "colab": {
          "base_uri": "https://localhost:8080/",
          "height": 206
        },
        "outputId": "fb567393-b444-41bb-9a73-a7786758eaed"
      },
      "source": [
        "path = 'https://drive.google.com/uc?export=download&id=1R6UJi1bAeDAPURXJrCSRtFvyMaXy4xtE'\n",
        "data = pd.read_csv(path)\n",
        "data.head()"
      ],
      "execution_count": 105,
      "outputs": [
        {
          "output_type": "execute_result",
          "data": {
            "text/html": [
              "<div>\n",
              "<style scoped>\n",
              "    .dataframe tbody tr th:only-of-type {\n",
              "        vertical-align: middle;\n",
              "    }\n",
              "\n",
              "    .dataframe tbody tr th {\n",
              "        vertical-align: top;\n",
              "    }\n",
              "\n",
              "    .dataframe thead th {\n",
              "        text-align: right;\n",
              "    }\n",
              "</style>\n",
              "<table border=\"1\" class=\"dataframe\">\n",
              "  <thead>\n",
              "    <tr style=\"text-align: right;\">\n",
              "      <th></th>\n",
              "      <th>textID</th>\n",
              "      <th>text</th>\n",
              "      <th>selected_text</th>\n",
              "      <th>sentiment</th>\n",
              "    </tr>\n",
              "  </thead>\n",
              "  <tbody>\n",
              "    <tr>\n",
              "      <th>0</th>\n",
              "      <td>cb774db0d1</td>\n",
              "      <td>I`d have responded, if I were going</td>\n",
              "      <td>I`d have responded, if I were going</td>\n",
              "      <td>0</td>\n",
              "    </tr>\n",
              "    <tr>\n",
              "      <th>1</th>\n",
              "      <td>549e992a42</td>\n",
              "      <td>Sooo SAD I will miss you here in San Diego!!!</td>\n",
              "      <td>Sooo SAD</td>\n",
              "      <td>2</td>\n",
              "    </tr>\n",
              "    <tr>\n",
              "      <th>2</th>\n",
              "      <td>088c60f138</td>\n",
              "      <td>my boss is bullying me...</td>\n",
              "      <td>bullying me</td>\n",
              "      <td>2</td>\n",
              "    </tr>\n",
              "    <tr>\n",
              "      <th>3</th>\n",
              "      <td>9642c003ef</td>\n",
              "      <td>what interview! leave me alone</td>\n",
              "      <td>leave me alone</td>\n",
              "      <td>2</td>\n",
              "    </tr>\n",
              "    <tr>\n",
              "      <th>4</th>\n",
              "      <td>358bd9e861</td>\n",
              "      <td>Sons of ****, why couldn`t they put them on t...</td>\n",
              "      <td>Sons of ****,</td>\n",
              "      <td>2</td>\n",
              "    </tr>\n",
              "  </tbody>\n",
              "</table>\n",
              "</div>"
            ],
            "text/plain": [
              "       textID  ... sentiment\n",
              "0  cb774db0d1  ...         0\n",
              "1  549e992a42  ...         2\n",
              "2  088c60f138  ...         2\n",
              "3  9642c003ef  ...         2\n",
              "4  358bd9e861  ...         2\n",
              "\n",
              "[5 rows x 4 columns]"
            ]
          },
          "metadata": {},
          "execution_count": 105
        }
      ]
    },
    {
      "cell_type": "code",
      "metadata": {
        "colab": {
          "base_uri": "https://localhost:8080/"
        },
        "id": "vPcHnpsyi9_a",
        "outputId": "d0282a74-378f-4127-c313-3535b672a1df"
      },
      "source": [
        "data.columns"
      ],
      "execution_count": 106,
      "outputs": [
        {
          "output_type": "execute_result",
          "data": {
            "text/plain": [
              "Index(['textID', 'text', 'selected_text', 'sentiment'], dtype='object')"
            ]
          },
          "metadata": {},
          "execution_count": 106
        }
      ]
    },
    {
      "cell_type": "code",
      "metadata": {
        "colab": {
          "base_uri": "https://localhost:8080/"
        },
        "id": "E8udP_Z_i_QQ",
        "outputId": "8e68fc0a-bd47-43ed-ad70-a58ce5697f68"
      },
      "source": [
        "data.shape\n"
      ],
      "execution_count": 107,
      "outputs": [
        {
          "output_type": "execute_result",
          "data": {
            "text/plain": [
              "(27481, 4)"
            ]
          },
          "metadata": {},
          "execution_count": 107
        }
      ]
    },
    {
      "cell_type": "code",
      "metadata": {
        "id": "TafoVGH8hWkx"
      },
      "source": [
        "data = data[['text', 'sentiment']]"
      ],
      "execution_count": 108,
      "outputs": []
    },
    {
      "cell_type": "code",
      "metadata": {
        "id": "LdpcWVxZeVJJ"
      },
      "source": [
        "data['text'] = data['text'].str.lower()"
      ],
      "execution_count": 109,
      "outputs": []
    },
    {
      "cell_type": "code",
      "metadata": {
        "id": "x5MMlBYLeZOc"
      },
      "source": [
        "from nltk.corpus import stopwords\n",
        "import nltk"
      ],
      "execution_count": 110,
      "outputs": []
    },
    {
      "cell_type": "code",
      "metadata": {
        "colab": {
          "base_uri": "https://localhost:8080/"
        },
        "id": "QAlirdlfedZS",
        "outputId": "d54f6b33-a2be-479a-ebe1-ca6fbc8e7b26"
      },
      "source": [
        "nltk.download(\"stopwords\")\n"
      ],
      "execution_count": 111,
      "outputs": [
        {
          "output_type": "stream",
          "name": "stdout",
          "text": [
            "[nltk_data] Downloading package stopwords to /root/nltk_data...\n",
            "[nltk_data]   Package stopwords is already up-to-date!\n"
          ]
        },
        {
          "output_type": "execute_result",
          "data": {
            "text/plain": [
              "True"
            ]
          },
          "metadata": {},
          "execution_count": 111
        }
      ]
    },
    {
      "cell_type": "code",
      "metadata": {
        "id": "tiNW46gpegrS"
      },
      "source": [
        "stopwords_list = stopwords.words('english')\n"
      ],
      "execution_count": 112,
      "outputs": []
    },
    {
      "cell_type": "code",
      "metadata": {
        "colab": {
          "base_uri": "https://localhost:8080/",
          "height": 140
        },
        "id": "jh7LW-VPeknW",
        "outputId": "e2cbfe61-4a24-4fa7-c858-b7ccbcef78f0"
      },
      "source": [
        "\", \".join(stopwords.words('english'))\n"
      ],
      "execution_count": 113,
      "outputs": [
        {
          "output_type": "execute_result",
          "data": {
            "application/vnd.google.colaboratory.intrinsic+json": {
              "type": "string"
            },
            "text/plain": [
              "\"i, me, my, myself, we, our, ours, ourselves, you, you're, you've, you'll, you'd, your, yours, yourself, yourselves, he, him, his, himself, she, she's, her, hers, herself, it, it's, its, itself, they, them, their, theirs, themselves, what, which, who, whom, this, that, that'll, these, those, am, is, are, was, were, be, been, being, have, has, had, having, do, does, did, doing, a, an, the, and, but, if, or, because, as, until, while, of, at, by, for, with, about, against, between, into, through, during, before, after, above, below, to, from, up, down, in, out, on, off, over, under, again, further, then, once, here, there, when, where, why, how, all, any, both, each, few, more, most, other, some, such, no, nor, not, only, own, same, so, than, too, very, s, t, can, will, just, don, don't, should, should've, now, d, ll, m, o, re, ve, y, ain, aren, aren't, couldn, couldn't, didn, didn't, doesn, doesn't, hadn, hadn't, hasn, hasn't, haven, haven't, isn, isn't, ma, mightn, mightn't, mustn, mustn't, needn, needn't, shan, shan't, shouldn, shouldn't, wasn, wasn't, weren, weren't, won, won't, wouldn, wouldn't\""
            ]
          },
          "metadata": {},
          "execution_count": 113
        }
      ]
    },
    {
      "cell_type": "code",
      "metadata": {
        "colab": {
          "base_uri": "https://localhost:8080/"
        },
        "id": "5FV_VFVQgpl-",
        "outputId": "45a74c43-d422-44f9-86f2-cc1818ddf21f"
      },
      "source": [
        "def cleaning_stopwords(text):\n",
        "    return \" \".join([word for word in str(text).split() if word not in stopwords_list])\n",
        "data['text'] = data['text'].apply(lambda text: cleaning_stopwords(text))\n",
        "data['text'].head()"
      ],
      "execution_count": 114,
      "outputs": [
        {
          "output_type": "execute_result",
          "data": {
            "text/plain": [
              "0                               i`d responded, going\n",
              "1                         sooo sad miss san diego!!!\n",
              "2                                boss bullying me...\n",
              "3                             interview! leave alone\n",
              "4    sons ****, couldn`t put releases already bought\n",
              "Name: text, dtype: object"
            ]
          },
          "metadata": {},
          "execution_count": 114
        }
      ]
    },
    {
      "cell_type": "code",
      "metadata": {
        "colab": {
          "base_uri": "https://localhost:8080/"
        },
        "id": "RXqFJzDdhMxh",
        "outputId": "d218cec1-8807-4534-d724-47f051e5091d"
      },
      "source": [
        "punctuations_list = string.punctuation\n",
        "def cleaning_punctuations(text):\n",
        "    translator = str.maketrans('', '', punctuations_list)\n",
        "    return text.translate(translator)\n",
        "data['text']= data['text'].apply(lambda x: cleaning_punctuations(x))\n",
        "data['text'].head()"
      ],
      "execution_count": 115,
      "outputs": [
        {
          "output_type": "execute_result",
          "data": {
            "text/plain": [
              "0                           id responded going\n",
              "1                      sooo sad miss san diego\n",
              "2                             boss bullying me\n",
              "3                        interview leave alone\n",
              "4    sons  couldnt put releases already bought\n",
              "Name: text, dtype: object"
            ]
          },
          "metadata": {},
          "execution_count": 115
        }
      ]
    },
    {
      "cell_type": "code",
      "metadata": {
        "id": "ULXQkTqfnXxo"
      },
      "source": [
        "def cleaning_repeating_char(text):\n",
        "    return re.sub(r'(.)\\1+', r'\\1', text)\n",
        "data['text']= data['text'].apply(lambda x: cleaning_repeating_char(x))"
      ],
      "execution_count": 116,
      "outputs": []
    },
    {
      "cell_type": "code",
      "metadata": {
        "id": "OWS6q6yMRuB_"
      },
      "source": [
        "def cleaning_email(data):\n",
        "    return re.sub('@[^\\s]+', ' ', data)\n",
        "data['text']= data['text'].apply(lambda x: cleaning_email(x))"
      ],
      "execution_count": 117,
      "outputs": []
    },
    {
      "cell_type": "code",
      "metadata": {
        "id": "DLlu2xtWR10E"
      },
      "source": [
        "def cleaning_URLs(data):\n",
        "    return re.sub('((www\\.[^\\s]+)|(https?://[^\\s]+))',' ',data)\n",
        "data['text']= data['text'].apply(lambda x: cleaning_URLs(x))"
      ],
      "execution_count": 118,
      "outputs": []
    },
    {
      "cell_type": "code",
      "metadata": {
        "id": "RxqhYb-eR66i"
      },
      "source": [
        "def cleaning_numbers(data):\n",
        "    return re.sub('[0-9]+', '', data)\n",
        "data['text']= data['text'].apply(lambda x: cleaning_numbers(x))"
      ],
      "execution_count": 119,
      "outputs": []
    },
    {
      "cell_type": "code",
      "metadata": {
        "colab": {
          "base_uri": "https://localhost:8080/"
        },
        "id": "nD1dnYVtSEMj",
        "outputId": "e4e86c49-f26c-4da1-b18b-aba0a502c9aa"
      },
      "source": [
        "tokenizer = RegexpTokenizer(r'\\w+')\n",
        "data['text'] = data['text'].apply(tokenizer.tokenize)\n",
        "data['text'].head()"
      ],
      "execution_count": 120,
      "outputs": [
        {
          "output_type": "execute_result",
          "data": {
            "text/plain": [
              "0                             [id, responded, going]\n",
              "1                         [so, sad, mis, san, diego]\n",
              "2                                 [bos, bulying, me]\n",
              "3                          [interview, leave, alone]\n",
              "4    [sons, couldnt, put, releases, already, bought]\n",
              "Name: text, dtype: object"
            ]
          },
          "metadata": {},
          "execution_count": 120
        }
      ]
    },
    {
      "cell_type": "code",
      "metadata": {
        "colab": {
          "base_uri": "https://localhost:8080/"
        },
        "id": "I5GrZO6ESSRs",
        "outputId": "e589fcc2-3bcf-4716-9deb-91930f0e5a97"
      },
      "source": [
        "st = nltk.PorterStemmer()\n",
        "def stemming_on_text(data):\n",
        "    text = [st.stem(word) for word in data]\n",
        "    return text\n",
        "\n",
        "data['text']= data['text'].apply(lambda x: stemming_on_text(x))\n",
        "data['text'].head()"
      ],
      "execution_count": 121,
      "outputs": [
        {
          "output_type": "execute_result",
          "data": {
            "text/plain": [
              "0                               [id, respond, go]\n",
              "1                       [so, sad, mi, san, diego]\n",
              "2                                  [bo, buli, me]\n",
              "3                         [interview, leav, alon]\n",
              "4    [son, couldnt, put, releas, alreadi, bought]\n",
              "Name: text, dtype: object"
            ]
          },
          "metadata": {},
          "execution_count": 121
        }
      ]
    },
    {
      "cell_type": "code",
      "metadata": {
        "colab": {
          "base_uri": "https://localhost:8080/"
        },
        "id": "fz9FjoGrU03o",
        "outputId": "7b1ec73b-d4ad-4c00-b301-b9c0f71d9e82"
      },
      "source": [
        "import nltk\n",
        "nltk.download('wordnet')"
      ],
      "execution_count": 122,
      "outputs": [
        {
          "output_type": "stream",
          "name": "stdout",
          "text": [
            "[nltk_data] Downloading package wordnet to /root/nltk_data...\n",
            "[nltk_data]   Package wordnet is already up-to-date!\n"
          ]
        },
        {
          "output_type": "execute_result",
          "data": {
            "text/plain": [
              "True"
            ]
          },
          "metadata": {},
          "execution_count": 122
        }
      ]
    },
    {
      "cell_type": "code",
      "metadata": {
        "colab": {
          "base_uri": "https://localhost:8080/"
        },
        "id": "_dku89CyU1RG",
        "outputId": "7f75b5af-5d16-4d68-b527-ac60cd91d8da"
      },
      "source": [
        "lm = nltk.WordNetLemmatizer()\n",
        "def lemmatizer_on_text(data):\n",
        "    text = [lm.lemmatize(word) for word in data]\n",
        "    return text\n",
        "\n",
        "data['text'] = data['text'].apply(lambda x: lemmatizer_on_text(x))\n",
        "data['text'].head()"
      ],
      "execution_count": 123,
      "outputs": [
        {
          "output_type": "execute_result",
          "data": {
            "text/plain": [
              "0                               [id, respond, go]\n",
              "1                       [so, sad, mi, san, diego]\n",
              "2                                  [bo, buli, me]\n",
              "3                         [interview, leav, alon]\n",
              "4    [son, couldnt, put, releas, alreadi, bought]\n",
              "Name: text, dtype: object"
            ]
          },
          "metadata": {},
          "execution_count": 123
        }
      ]
    },
    {
      "cell_type": "code",
      "metadata": {
        "colab": {
          "base_uri": "https://localhost:8080/"
        },
        "id": "25NkqVbqXCir",
        "outputId": "bd9cfcc7-9346-4b17-d387-37b5386dcbe8"
      },
      "source": [
        "X = data['text']\n",
        "X"
      ],
      "execution_count": 124,
      "outputs": [
        {
          "output_type": "execute_result",
          "data": {
            "text/plain": [
              "0                                        [id, respond, go]\n",
              "1                                [so, sad, mi, san, diego]\n",
              "2                                           [bo, buli, me]\n",
              "3                                  [interview, leav, alon]\n",
              "4             [son, couldnt, put, releas, alreadi, bought]\n",
              "                               ...                        \n",
              "27476    [wish, could, come, se, u, denver, husband, lo...\n",
              "27477    [ive, wonder, rake, to, client, made, clear, n...\n",
              "27478    [yay, god, you, enjoy, break, probabl, ned, he...\n",
              "27479                                              [worth]\n",
              "27480                    [flirt, go, atg, smile, yay, hug]\n",
              "Name: text, Length: 27481, dtype: object"
            ]
          },
          "metadata": {},
          "execution_count": 124
        }
      ]
    },
    {
      "cell_type": "code",
      "metadata": {
        "colab": {
          "base_uri": "https://localhost:8080/"
        },
        "id": "a46Zz-jjXIqH",
        "outputId": "6429912f-1013-4095-cf24-d7c0d14bad73"
      },
      "source": [
        "Y = data['sentiment']\n",
        "Y"
      ],
      "execution_count": 125,
      "outputs": [
        {
          "output_type": "execute_result",
          "data": {
            "text/plain": [
              "0        0\n",
              "1        2\n",
              "2        2\n",
              "3        2\n",
              "4        2\n",
              "        ..\n",
              "27476    2\n",
              "27477    2\n",
              "27478    1\n",
              "27479    1\n",
              "27480    0\n",
              "Name: sentiment, Length: 27481, dtype: int64"
            ]
          },
          "metadata": {},
          "execution_count": 125
        }
      ]
    },
    {
      "cell_type": "code",
      "metadata": {
        "id": "hc8FOMiPYUUO"
      },
      "source": [
        "tokenizer = Tokenizer(num_words=5000)\n",
        "tokenizer.fit_on_texts(X)\n",
        "maxlen = 100\n",
        "word_index = tokenizer.word_index\n",
        "vocab_size = len(tokenizer.word_index) + 1"
      ],
      "execution_count": 126,
      "outputs": []
    },
    {
      "cell_type": "code",
      "metadata": {
        "colab": {
          "base_uri": "https://localhost:8080/"
        },
        "id": "wkl--UKe_HUh",
        "outputId": "e97e9081-bd95-4e95-a582-a6a146626286"
      },
      "source": [
        "Y.unique()"
      ],
      "execution_count": 127,
      "outputs": [
        {
          "output_type": "execute_result",
          "data": {
            "text/plain": [
              "array([0, 2, 1])"
            ]
          },
          "metadata": {},
          "execution_count": 127
        }
      ]
    },
    {
      "cell_type": "code",
      "metadata": {
        "id": "Lh7odLdsY4Sd",
        "colab": {
          "base_uri": "https://localhost:8080/"
        },
        "outputId": "a75458b7-f07b-4c18-fe2e-612f67034ac6"
      },
      "source": [
        "X_train, X_test, Y_train, Y_test = train_test_split(X, Y, test_size = 0.3, random_state = 42)\n",
        "Y_train = to_categorical(Y_train)\n",
        "\n",
        "X\n",
        "#Tokenizer\n",
        "X_train = tokenizer.texts_to_sequences(X_train)\n",
        "X_test = tokenizer.texts_to_sequences(X_test)\n",
        "\n",
        "#Padding\n",
        "X_train = pad_sequences(X_train, padding='post', maxlen=maxlen)\n",
        "X_test = pad_sequences(X_test, padding='post', maxlen=maxlen)\n",
        "\n",
        "X_train"
      ],
      "execution_count": 128,
      "outputs": [
        {
          "output_type": "execute_result",
          "data": {
            "text/plain": [
              "array([[  70,  564,   46, ...,    0,    0,    0],\n",
              "       [ 111,  392,    4, ...,    0,    0,    0],\n",
              "       [ 112,  164,  425, ...,    0,    0,    0],\n",
              "       ...,\n",
              "       [ 214, 1096,  140, ...,    0,    0,    0],\n",
              "       [  95,   98,    0, ...,    0,    0,    0],\n",
              "       [  26,    1,   22, ...,    0,    0,    0]], dtype=int32)"
            ]
          },
          "metadata": {},
          "execution_count": 128
        }
      ]
    },
    {
      "cell_type": "markdown",
      "metadata": {
        "id": "4lqwTKAhE5La"
      },
      "source": [
        "**MLP**"
      ]
    },
    {
      "cell_type": "code",
      "metadata": {
        "id": "taJsKquzfRgR"
      },
      "source": [
        "def mlp_keras(activation,optimizer,epochs,batchsize):\n",
        "  embedding_dim = 100\n",
        "\n",
        "  model = Sequential()\n",
        "  model.add(layers.Embedding(input_dim=vocab_size, \n",
        "                            output_dim=embedding_dim,\n",
        "                            input_length=maxlen))\n",
        "  model.add(layers.GlobalMaxPool1D())\n",
        "  model.add(layers.Dense(30, activation=activation))\n",
        "  model.add(layers.BatchNormalization())\n",
        "  model.add(layers.Dropout(0.2))\n",
        "  model.add(layers.Dense(10, activation=activation))\n",
        "  model.add(layers.BatchNormalization())\n",
        "  model.add(layers.Dropout(0.2))\n",
        "  model.add(layers.Dense(3, activation='softmax'))\n",
        "  model.compile(optimizer=optimizer,\n",
        "                loss='categorical_crossentropy',\n",
        "                metrics=['accuracy'])\n",
        "  model.fit(X_train, np.asarray(Y_train).astype(np.float32),\n",
        "                    epochs=epochs,\n",
        "                    verbose=0,\n",
        "                    batch_size=batchsize)\n",
        "  \n",
        "  return model"
      ],
      "execution_count": 133,
      "outputs": []
    },
    {
      "cell_type": "code",
      "metadata": {
        "id": "YDIwIClsfUSk",
        "colab": {
          "base_uri": "https://localhost:8080/"
        },
        "outputId": "ea997417-199c-4dd2-bc5d-1c753b910af7"
      },
      "source": [
        "t0 = time()\n",
        "model = mlp_keras('relu','RMSprop', 5, 32)\n",
        "pred = np.argmax(model.predict(X_test), axis=-1)\n",
        "t1 = time()\n",
        "\n",
        "MLP_accuracy = accuracy_score(y_pred=pred, y_true=Y_test)\n",
        "MLP_f1_score = f1_score(y_pred=pred, y_true=Y_test, average=\"weighted\")\n",
        "MLP_time = t1 - t0\n",
        "print(\"MLP Accuracy = \",MLP_accuracy)\n",
        "print(\"MLP F1 Score = \",MLP_f1_score)\n",
        "print(\"MLP Time taken = \", MLP_time)"
      ],
      "execution_count": 135,
      "outputs": [
        {
          "output_type": "stream",
          "name": "stdout",
          "text": [
            "MLP Accuracy =  0.7161916312916919\n",
            "MLP F1 Score =  0.7150377724707253\n",
            "MLP Time taken is  41.98623061180115\n"
          ]
        }
      ]
    },
    {
      "cell_type": "markdown",
      "metadata": {
        "id": "vf0JiKEeF2Eh"
      },
      "source": [
        "**CNN**"
      ]
    },
    {
      "cell_type": "code",
      "metadata": {
        "id": "zvu4obLNF1YL"
      },
      "source": [
        "def cnn_keras(activation,optimizer,epochs,batchsize):\n",
        "  embedding_dim = 100\n",
        "\n",
        "  model = Sequential()\n",
        "  model.add(layers.Embedding(input_dim=vocab_size, \n",
        "                          output_dim=embedding_dim,\n",
        "                          input_length=maxlen))\n",
        "\n",
        "  model.add(Conv1D(32, kernel_size=2, activation=activation))\n",
        "  model.add(layers.MaxPooling1D(2))\n",
        "  model.add(Conv1D(32, kernel_size=2, activation=activation))\n",
        "  model.add(Dropout(0.25))\n",
        "  model.add(Conv1D(16, kernel_size=2, activation=activation))\n",
        "  model.add(layers.MaxPooling1D(2))\n",
        "  model.add(Conv1D(16, kernel_size=2, activation=activation))\n",
        "  model.add(Dropout(0.25))\n",
        "\n",
        "  model.add(Flatten())\n",
        "\n",
        "  model.add(Dense(64, activation='tanh'))\n",
        "  model.add(Dropout(0.5))\n",
        "\n",
        "  model.add(Dense(3, activation='softmax'))\n",
        "  model.compile(optimizer=optimizer,\n",
        "                loss='categorical_crossentropy',\n",
        "                metrics=['accuracy'])\n",
        "  model.fit(X_train, Y_train,\n",
        "                    epochs=epochs,\n",
        "                    verbose=0,\n",
        "                    batch_size=batchsize)\n",
        "  \n",
        "  return model"
      ],
      "execution_count": 142,
      "outputs": []
    },
    {
      "cell_type": "code",
      "metadata": {
        "colab": {
          "base_uri": "https://localhost:8080/"
        },
        "id": "NH7z-m9qF9XZ",
        "outputId": "ca7ee068-6dc3-45bc-caa6-ae9204e9f0c6"
      },
      "source": [
        "t0 = time()\n",
        "model = cnn_keras('elu','RMSprop', 5, 8)\n",
        "pred = np.argmax(model.predict(X_test), axis=-1)\n",
        "t1 = time()\n",
        "\n",
        "CNN_accuracy = accuracy_score(y_pred=pred, y_true=Y_test)\n",
        "CNN_f1_score = f1_score(y_pred=pred, y_true=Y_test, average=\"weighted\")\n",
        "CNN_time = t1 - t0\n",
        "print(\"CNN Accuracy = \",CNN_accuracy)\n",
        "print(\"CNN F1 Score = \",CNN_f1_score)\n",
        "print(\"CNN Time taken = \", CNN_time)"
      ],
      "execution_count": 154,
      "outputs": [
        {
          "output_type": "stream",
          "name": "stdout",
          "text": [
            "CNN Accuracy =  0.6927835051546392\n",
            "CNN F1 Score =  0.6925277223405786\n",
            "CNN Time taken =  89.31533813476562\n"
          ]
        }
      ]
    },
    {
      "cell_type": "markdown",
      "metadata": {
        "id": "tJcW1ZJUJI0_"
      },
      "source": [
        "**RNN**"
      ]
    },
    {
      "cell_type": "code",
      "metadata": {
        "id": "uOLcsme3JNAe"
      },
      "source": [
        "def rnn_keras(activation,optimizer,epochs,batchsize):\n",
        "  embedding_dim = 100\n",
        "\n",
        "  model = Sequential()\n",
        "  model.add(layers.Embedding(input_dim=vocab_size, \n",
        "                          output_dim=embedding_dim, \n",
        "                          input_length=maxlen))\n",
        "  model.add(layers.SimpleRNN(64))\n",
        "  model.add(Dense(3,activation='softmax'))\n",
        "  model.compile(optimizer=optimizer,\n",
        "                loss='categorical_crossentropy',\n",
        "                metrics=['accuracy'])\n",
        "  model.fit(X_train, Y_train,\n",
        "                    epochs=epochs,\n",
        "                    verbose=0,\n",
        "                    batch_size=batchsize)\n",
        "  \n",
        "  return model"
      ],
      "execution_count": 147,
      "outputs": []
    },
    {
      "cell_type": "code",
      "metadata": {
        "colab": {
          "base_uri": "https://localhost:8080/"
        },
        "id": "GkNAim-TJa7A",
        "outputId": "4fc52036-072e-486a-f823-107c60c8a550"
      },
      "source": [
        "t0 = time()\n",
        "model = rnn_keras('tanh','RMSprop', 5, 8)\n",
        "pred = np.argmax(model.predict(X_test), axis=-1)\n",
        "t1 = time()\n",
        "\n",
        "RNN_accuracy = accuracy_score(y_pred=pred, y_true=Y_test)\n",
        "RNN_f1_score = f1_score(y_pred=pred, y_true=Y_test, average=\"weighted\")\n",
        "RNN_time = t1 - t0\n",
        "print(\"RNN Accuracy = \",RNN_accuracy)\n",
        "print(\"RNN F1 Score = \",RNN_f1_score)\n",
        "print(\"RNN Time taken = \", RNN_time)"
      ],
      "execution_count": 155,
      "outputs": [
        {
          "output_type": "stream",
          "name": "stdout",
          "text": [
            "RNN Accuracy =  0.3764705882352941\n",
            "RNN F1 Score =  0.31149252135244543\n",
            "RNN Time taken =  1870.852412223816\n"
          ]
        }
      ]
    },
    {
      "cell_type": "markdown",
      "metadata": {
        "id": "mLl8tboFKTnv"
      },
      "source": [
        "**LSTM**"
      ]
    },
    {
      "cell_type": "code",
      "metadata": {
        "id": "F38rIU7tJ8L2"
      },
      "source": [
        "def lstm_keras(activation,optimizer,epochs,batchsize):\n",
        "  embedding_dim = 100\n",
        "\n",
        "  model = Sequential()\n",
        "  model.add(layers.Embedding(input_dim=vocab_size, \n",
        "                          output_dim=embedding_dim, \n",
        "                          input_length=maxlen))\n",
        "  model.add(SpatialDropout1D(0.4))\n",
        "  model.add(LSTM(64, activation=activation))\n",
        "  model.add(Dense(3,activation='softmax'))\n",
        "  model.compile(optimizer=optimizer,\n",
        "                loss='categorical_crossentropy',\n",
        "                metrics=['accuracy'])\n",
        "  model.fit(X_train, Y_train,\n",
        "                    epochs=epochs,\n",
        "                    verbose=0,\n",
        "                    batch_size=batchsize)\n",
        "  \n",
        "  return model"
      ],
      "execution_count": 148,
      "outputs": []
    },
    {
      "cell_type": "code",
      "metadata": {
        "colab": {
          "base_uri": "https://localhost:8080/"
        },
        "id": "CdxiuRdlKpy5",
        "outputId": "444dd266-8f3f-4df2-d944-4d22366f5b57"
      },
      "source": [
        "t0 = time()\n",
        "model = lstm_keras('tanh','adam', 5, 16)\n",
        "pred = np.argmax(model.predict(X_test), axis=-1)\n",
        "t1 = time()\n",
        "\n",
        "LSTM_accuracy = accuracy_score(y_pred=pred, y_true=Y_test)\n",
        "LSTM_f1_score = f1_score(y_pred=pred, y_true=Y_test, average=\"weighted\")\n",
        "LSTM_time = t1 - t0\n",
        "print(\"LSTM Accuracy = \",LSTM_accuracy)\n",
        "print(\"LSTM F1 Score = \",LSTM_f1_score)\n",
        "print(\"LSTM Time taken = \", LSTM_time)"
      ],
      "execution_count": 153,
      "outputs": [
        {
          "output_type": "stream",
          "name": "stdout",
          "text": [
            "LSTM Accuracy =  0.408853850818678\n",
            "LSTM F1 Score =  0.2373013655492017\n",
            "LSTM Time taken =  183.06055998802185\n"
          ]
        }
      ]
    },
    {
      "cell_type": "code",
      "metadata": {
        "id": "mUR-sW5gKjdN"
      },
      "source": [
        "output=[]\n",
        "output.append(['MLP',MLP_accuracy,MLP_f1_score,MLP_time])\n",
        "output.append(['CNN',CNN_accuracy,CNN_f1_score,CNN_time])\n",
        "output.append(['RNN',RNN_accuracy,RNN_f1_score,RNN_time])\n",
        "output.append(['LSTM',LSTM_accuracy,LSTM_f1_score,LSTM_time])\n",
        "outputDataframe = pd.DataFrame(output, columns = ['Model Name', 'Testing Accuracy','F1 Accuracy','Training Time']) "
      ],
      "execution_count": 159,
      "outputs": []
    },
    {
      "cell_type": "code",
      "metadata": {
        "colab": {
          "base_uri": "https://localhost:8080/",
          "height": 175
        },
        "id": "3t-5gG20Yqs_",
        "outputId": "75e5714c-ebe7-49a3-8586-c43b2c708aed"
      },
      "source": [
        "outputDataframe"
      ],
      "execution_count": 160,
      "outputs": [
        {
          "output_type": "execute_result",
          "data": {
            "text/html": [
              "<div>\n",
              "<style scoped>\n",
              "    .dataframe tbody tr th:only-of-type {\n",
              "        vertical-align: middle;\n",
              "    }\n",
              "\n",
              "    .dataframe tbody tr th {\n",
              "        vertical-align: top;\n",
              "    }\n",
              "\n",
              "    .dataframe thead th {\n",
              "        text-align: right;\n",
              "    }\n",
              "</style>\n",
              "<table border=\"1\" class=\"dataframe\">\n",
              "  <thead>\n",
              "    <tr style=\"text-align: right;\">\n",
              "      <th></th>\n",
              "      <th>Model Name</th>\n",
              "      <th>Testing Accuracy</th>\n",
              "      <th>F1 Accuracy</th>\n",
              "      <th>Training Time</th>\n",
              "    </tr>\n",
              "  </thead>\n",
              "  <tbody>\n",
              "    <tr>\n",
              "      <th>0</th>\n",
              "      <td>MLP</td>\n",
              "      <td>0.716192</td>\n",
              "      <td>0.715038</td>\n",
              "      <td>41.986231</td>\n",
              "    </tr>\n",
              "    <tr>\n",
              "      <th>1</th>\n",
              "      <td>CNN</td>\n",
              "      <td>0.692784</td>\n",
              "      <td>0.692528</td>\n",
              "      <td>89.315338</td>\n",
              "    </tr>\n",
              "    <tr>\n",
              "      <th>2</th>\n",
              "      <td>RNN</td>\n",
              "      <td>0.376471</td>\n",
              "      <td>0.311493</td>\n",
              "      <td>1870.852412</td>\n",
              "    </tr>\n",
              "    <tr>\n",
              "      <th>3</th>\n",
              "      <td>LSTM</td>\n",
              "      <td>0.408854</td>\n",
              "      <td>0.237301</td>\n",
              "      <td>183.060560</td>\n",
              "    </tr>\n",
              "  </tbody>\n",
              "</table>\n",
              "</div>"
            ],
            "text/plain": [
              "  Model Name  Testing Accuracy  F1 Accuracy  Training Time\n",
              "0        MLP          0.716192     0.715038      41.986231\n",
              "1        CNN          0.692784     0.692528      89.315338\n",
              "2        RNN          0.376471     0.311493    1870.852412\n",
              "3       LSTM          0.408854     0.237301     183.060560"
            ]
          },
          "metadata": {},
          "execution_count": 160
        }
      ]
    },
    {
      "cell_type": "code",
      "metadata": {
        "colab": {
          "base_uri": "https://localhost:8080/",
          "height": 296
        },
        "id": "dssMrVA-Ycot",
        "outputId": "a169f98f-918d-4279-f125-36693e855ac4"
      },
      "source": [
        "ax = outputDataframe.plot.bar(x='Model Name', y={'Testing Accuracy','F1 Accuracy'})"
      ],
      "execution_count": 162,
      "outputs": [
        {
          "output_type": "display_data",
          "data": {
            "image/png": "[encoded data removed]",
            "text/plain": [
              "<Figure size 432x288 with 1 Axes>"
            ]
          },
          "metadata": {
            "needs_background": "light"
          }
        }
      ]
    },
    {
      "cell_type": "code",
      "metadata": {
        "colab": {
          "base_uri": "https://localhost:8080/",
          "height": 296
        },
        "id": "sCzAUY0FY-IE",
        "outputId": "ab0099db-260c-4639-cf70-2f234b41b3ef"
      },
      "source": [
        "ax = outputDataframe.plot.bar(x='Model Name', y={'Training Time'})"
      ],
      "execution_count": 163,
      "outputs": [
        {
          "output_type": "display_data",
          "data": {
            "image/png": "[encoded data removed]",
            "text/plain": [
              "<Figure size 432x288 with 1 Axes>"
            ]
          },
          "metadata": {
            "needs_background": "light"
          }
        }
      ]
    }
  ]
}